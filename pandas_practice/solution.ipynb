{
 "cells": [
  {
   "cell_type": "code",
   "execution_count": 1,
   "id": "ea75a658-5cf5-476b-8228-9c045a49eae9",
   "metadata": {},
   "outputs": [],
   "source": [
    "import pandas as pd"
   ]
  },
  {
   "cell_type": "code",
   "execution_count": 2,
   "id": "c3840256-aa43-4ca6-9b8c-f05a455496bb",
   "metadata": {},
   "outputs": [],
   "source": [
    "data = pd.read_csv(\"usersv2.csv\")"
   ]
  },
  {
   "cell_type": "code",
   "execution_count": 3,
   "id": "06db8686-1b3a-4e36-b5e4-e4cbf372d103",
   "metadata": {},
   "outputs": [
    {
     "data": {
      "text/html": [
       "<div>\n",
       "<style scoped>\n",
       "    .dataframe tbody tr th:only-of-type {\n",
       "        vertical-align: middle;\n",
       "    }\n",
       "\n",
       "    .dataframe tbody tr th {\n",
       "        vertical-align: top;\n",
       "    }\n",
       "\n",
       "    .dataframe thead th {\n",
       "        text-align: right;\n",
       "    }\n",
       "</style>\n",
       "<table border=\"1\" class=\"dataframe\">\n",
       "  <thead>\n",
       "    <tr style=\"text-align: right;\">\n",
       "      <th></th>\n",
       "      <th>name</th>\n",
       "      <th>age</th>\n",
       "      <th>username</th>\n",
       "      <th>email</th>\n",
       "      <th>country</th>\n",
       "      <th>postcode</th>\n",
       "      <th>gender</th>\n",
       "    </tr>\n",
       "  </thead>\n",
       "  <tbody>\n",
       "    <tr>\n",
       "      <th>0</th>\n",
       "      <td>Ms Fátima Martin</td>\n",
       "      <td>42</td>\n",
       "      <td>goldenmouse797</td>\n",
       "      <td>fatima.martin@example.com</td>\n",
       "      <td>Spain</td>\n",
       "      <td>43746</td>\n",
       "      <td>female</td>\n",
       "    </tr>\n",
       "    <tr>\n",
       "      <th>1</th>\n",
       "      <td>Mrs Molly Garrett</td>\n",
       "      <td>30</td>\n",
       "      <td>smallpanda982</td>\n",
       "      <td>molly.garrett@example.com</td>\n",
       "      <td>Ireland</td>\n",
       "      <td>57660</td>\n",
       "      <td>female</td>\n",
       "    </tr>\n",
       "    <tr>\n",
       "      <th>2</th>\n",
       "      <td>Ms Veena Kulkarni</td>\n",
       "      <td>53</td>\n",
       "      <td>smalltiger174</td>\n",
       "      <td>veena.kulkarni@example.com</td>\n",
       "      <td>India</td>\n",
       "      <td>29797</td>\n",
       "      <td>female</td>\n",
       "    </tr>\n",
       "    <tr>\n",
       "      <th>3</th>\n",
       "      <td>Miss Sheryl Cole</td>\n",
       "      <td>74</td>\n",
       "      <td>beautifulcat191</td>\n",
       "      <td>sheryl.cole@example.com</td>\n",
       "      <td>United Kingdom</td>\n",
       "      <td>TH3 7XG</td>\n",
       "      <td>female</td>\n",
       "    </tr>\n",
       "    <tr>\n",
       "      <th>4</th>\n",
       "      <td>Ms Nataša Subašić</td>\n",
       "      <td>55</td>\n",
       "      <td>bigbird256</td>\n",
       "      <td>natasa.subasic@example.com</td>\n",
       "      <td>Serbia</td>\n",
       "      <td>83260</td>\n",
       "      <td>female</td>\n",
       "    </tr>\n",
       "  </tbody>\n",
       "</table>\n",
       "</div>"
      ],
      "text/plain": [
       "                name  age         username                       email  \\\n",
       "0   Ms Fátima Martin   42   goldenmouse797   fatima.martin@example.com   \n",
       "1  Mrs Molly Garrett   30    smallpanda982   molly.garrett@example.com   \n",
       "2  Ms Veena Kulkarni   53    smalltiger174  veena.kulkarni@example.com   \n",
       "3   Miss Sheryl Cole   74  beautifulcat191     sheryl.cole@example.com   \n",
       "4  Ms Nataša Subašić   55       bigbird256  natasa.subasic@example.com   \n",
       "\n",
       "          country postcode  gender  \n",
       "0           Spain    43746  female  \n",
       "1         Ireland    57660  female  \n",
       "2           India    29797  female  \n",
       "3  United Kingdom  TH3 7XG  female  \n",
       "4          Serbia    83260  female  "
      ]
     },
     "execution_count": 3,
     "metadata": {},
     "output_type": "execute_result"
    }
   ],
   "source": [
    "data.head()"
   ]
  },
  {
   "cell_type": "markdown",
   "id": "41c36249-a1e9-41eb-a0aa-5a52744b6647",
   "metadata": {},
   "source": [
    "Obtener el nombre y correo de todos los usuarios."
   ]
  },
  {
   "cell_type": "code",
   "execution_count": 4,
   "id": "0291534b-5652-4923-a033-712a8ab028f2",
   "metadata": {},
   "outputs": [
    {
     "data": {
      "text/html": [
       "<div>\n",
       "<style scoped>\n",
       "    .dataframe tbody tr th:only-of-type {\n",
       "        vertical-align: middle;\n",
       "    }\n",
       "\n",
       "    .dataframe tbody tr th {\n",
       "        vertical-align: top;\n",
       "    }\n",
       "\n",
       "    .dataframe thead th {\n",
       "        text-align: right;\n",
       "    }\n",
       "</style>\n",
       "<table border=\"1\" class=\"dataframe\">\n",
       "  <thead>\n",
       "    <tr style=\"text-align: right;\">\n",
       "      <th></th>\n",
       "      <th>name</th>\n",
       "      <th>email</th>\n",
       "    </tr>\n",
       "  </thead>\n",
       "  <tbody>\n",
       "    <tr>\n",
       "      <th>0</th>\n",
       "      <td>Ms Fátima Martin</td>\n",
       "      <td>fatima.martin@example.com</td>\n",
       "    </tr>\n",
       "    <tr>\n",
       "      <th>1</th>\n",
       "      <td>Mrs Molly Garrett</td>\n",
       "      <td>molly.garrett@example.com</td>\n",
       "    </tr>\n",
       "    <tr>\n",
       "      <th>2</th>\n",
       "      <td>Ms Veena Kulkarni</td>\n",
       "      <td>veena.kulkarni@example.com</td>\n",
       "    </tr>\n",
       "    <tr>\n",
       "      <th>3</th>\n",
       "      <td>Miss Sheryl Cole</td>\n",
       "      <td>sheryl.cole@example.com</td>\n",
       "    </tr>\n",
       "    <tr>\n",
       "      <th>4</th>\n",
       "      <td>Ms Nataša Subašić</td>\n",
       "      <td>natasa.subasic@example.com</td>\n",
       "    </tr>\n",
       "    <tr>\n",
       "      <th>...</th>\n",
       "      <td>...</td>\n",
       "      <td>...</td>\n",
       "    </tr>\n",
       "    <tr>\n",
       "      <th>1995</th>\n",
       "      <td>Ms Viktoria Lauritsen</td>\n",
       "      <td>viktoria.lauritsen@example.com</td>\n",
       "    </tr>\n",
       "    <tr>\n",
       "      <th>1996</th>\n",
       "      <td>Mr Christian Sørhaug</td>\n",
       "      <td>christian.sorhaug@example.com</td>\n",
       "    </tr>\n",
       "    <tr>\n",
       "      <th>1997</th>\n",
       "      <td>Ms Maria Peković</td>\n",
       "      <td>maria.pekovic@example.com</td>\n",
       "    </tr>\n",
       "    <tr>\n",
       "      <th>1998</th>\n",
       "      <td>Mrs Nicole Jensen</td>\n",
       "      <td>nicole.jensen@example.com</td>\n",
       "    </tr>\n",
       "    <tr>\n",
       "      <th>1999</th>\n",
       "      <td>Mr Percy Blankenstein</td>\n",
       "      <td>percy.blankenstein@example.com</td>\n",
       "    </tr>\n",
       "  </tbody>\n",
       "</table>\n",
       "<p>2000 rows × 2 columns</p>\n",
       "</div>"
      ],
      "text/plain": [
       "                       name                           email\n",
       "0          Ms Fátima Martin       fatima.martin@example.com\n",
       "1         Mrs Molly Garrett       molly.garrett@example.com\n",
       "2         Ms Veena Kulkarni      veena.kulkarni@example.com\n",
       "3          Miss Sheryl Cole         sheryl.cole@example.com\n",
       "4         Ms Nataša Subašić      natasa.subasic@example.com\n",
       "...                     ...                             ...\n",
       "1995  Ms Viktoria Lauritsen  viktoria.lauritsen@example.com\n",
       "1996   Mr Christian Sørhaug   christian.sorhaug@example.com\n",
       "1997       Ms Maria Peković       maria.pekovic@example.com\n",
       "1998      Mrs Nicole Jensen       nicole.jensen@example.com\n",
       "1999  Mr Percy Blankenstein  percy.blankenstein@example.com\n",
       "\n",
       "[2000 rows x 2 columns]"
      ]
     },
     "execution_count": 4,
     "metadata": {},
     "output_type": "execute_result"
    }
   ],
   "source": [
    "data[[\"name\", \"email\"]]"
   ]
  },
  {
   "cell_type": "markdown",
   "id": "ce03046b-5220-4c07-bfb5-b0abc898bb0e",
   "metadata": {},
   "source": [
    "Obtener el nombre de todos los usuarios cuyo sexo es Femenino."
   ]
  },
  {
   "cell_type": "code",
   "execution_count": 5,
   "id": "ad1aa341-e780-4bc7-a62e-08afeae6a790",
   "metadata": {},
   "outputs": [
    {
     "data": {
      "text/plain": [
       "0            Ms Fátima Martin\n",
       "1           Mrs Molly Garrett\n",
       "2           Ms Veena Kulkarni\n",
       "3            Miss Sheryl Cole\n",
       "4           Ms Nataša Subašić\n",
       "                ...          \n",
       "1992        Ms Floriana Ramos\n",
       "1994             Ms Bella Lee\n",
       "1995    Ms Viktoria Lauritsen\n",
       "1997         Ms Maria Peković\n",
       "1998        Mrs Nicole Jensen\n",
       "Name: name, Length: 1013, dtype: object"
      ]
     },
     "execution_count": 5,
     "metadata": {},
     "output_type": "execute_result"
    }
   ],
   "source": [
    "data.name[data.gender == \"female\"]"
   ]
  },
  {
   "cell_type": "markdown",
   "id": "b0f0c658-db3b-44e1-9aef-11294cefb3f6",
   "metadata": {},
   "source": [
    "Obtener el nombre de todos los usuarios cuyo sexo es Masculino y tengan una edad mayor a 50."
   ]
  },
  {
   "cell_type": "code",
   "execution_count": 6,
   "id": "99ec5e9f-7e28-43a6-b891-68b2f0498a52",
   "metadata": {},
   "outputs": [
    {
     "data": {
      "text/plain": [
       "6                   Mr Oscar Olsen\n",
       "10      Monsieur Francesco Leclerc\n",
       "12                 Mr Sean Shelton\n",
       "17                Mr Lennox Økland\n",
       "19                   Mr Jose Wells\n",
       "                   ...            \n",
       "1980               Mr Sierd Donker\n",
       "1983          Mr Alfred Williamson\n",
       "1987                Mr Blake Slawa\n",
       "1991                 Mr Jake Moore\n",
       "1993            Mr Zachary Stevens\n",
       "Name: name, Length: 461, dtype: object"
      ]
     },
     "execution_count": 6,
     "metadata": {},
     "output_type": "execute_result"
    }
   ],
   "source": [
    "data.name[(data.gender == \"male\") & (data.age > 50)]"
   ]
  },
  {
   "cell_type": "markdown",
   "id": "fc96fe59-c481-4abc-92de-3c265cb7b470",
   "metadata": {},
   "source": [
    "Obtener todos los usuarios cuya edad sea mayor a 20."
   ]
  },
  {
   "cell_type": "code",
   "execution_count": 7,
   "id": "21e326c4-d294-42e6-bc15-6ee622c31966",
   "metadata": {},
   "outputs": [
    {
     "data": {
      "text/plain": [
       "0            Ms Fátima Martin\n",
       "1           Mrs Molly Garrett\n",
       "2           Ms Veena Kulkarni\n",
       "3            Miss Sheryl Cole\n",
       "4           Ms Nataša Subašić\n",
       "                ...          \n",
       "1995    Ms Viktoria Lauritsen\n",
       "1996     Mr Christian Sørhaug\n",
       "1997         Ms Maria Peković\n",
       "1998        Mrs Nicole Jensen\n",
       "1999    Mr Percy Blankenstein\n",
       "Name: name, Length: 2000, dtype: object"
      ]
     },
     "execution_count": 7,
     "metadata": {},
     "output_type": "execute_result"
    }
   ],
   "source": [
    "data.name[data.age > 20]"
   ]
  },
  {
   "cell_type": "markdown",
   "id": "a1f63a42-02cc-4152-aad6-d93e24866f32",
   "metadata": {},
   "source": [
    "Obtener el username y correo electrónico de los usuarios cuya edad se encuentre\n",
    "en el rango 10 a 20."
   ]
  },
  {
   "cell_type": "code",
   "execution_count": 8,
   "id": "a495dc4f-d5bd-4495-b057-020bae1735a7",
   "metadata": {},
   "outputs": [
    {
     "data": {
      "text/html": [
       "<div>\n",
       "<style scoped>\n",
       "    .dataframe tbody tr th:only-of-type {\n",
       "        vertical-align: middle;\n",
       "    }\n",
       "\n",
       "    .dataframe tbody tr th {\n",
       "        vertical-align: top;\n",
       "    }\n",
       "\n",
       "    .dataframe thead th {\n",
       "        text-align: right;\n",
       "    }\n",
       "</style>\n",
       "<table border=\"1\" class=\"dataframe\">\n",
       "  <thead>\n",
       "    <tr style=\"text-align: right;\">\n",
       "      <th></th>\n",
       "      <th>username</th>\n",
       "      <th>email</th>\n",
       "    </tr>\n",
       "  </thead>\n",
       "  <tbody>\n",
       "  </tbody>\n",
       "</table>\n",
       "</div>"
      ],
      "text/plain": [
       "Empty DataFrame\n",
       "Columns: [username, email]\n",
       "Index: []"
      ]
     },
     "execution_count": 8,
     "metadata": {},
     "output_type": "execute_result"
    }
   ],
   "source": [
    "condition = (data.age > 10) & (data.age < 20)\n",
    "data[[\"username\", \"email\"]][condition]"
   ]
  },
  {
   "cell_type": "code",
   "execution_count": 9,
   "id": "900c1e3b-49b6-4593-be01-080ff22311b3",
   "metadata": {},
   "outputs": [
    {
     "data": {
      "text/html": [
       "<div>\n",
       "<style scoped>\n",
       "    .dataframe tbody tr th:only-of-type {\n",
       "        vertical-align: middle;\n",
       "    }\n",
       "\n",
       "    .dataframe tbody tr th {\n",
       "        vertical-align: top;\n",
       "    }\n",
       "\n",
       "    .dataframe thead th {\n",
       "        text-align: right;\n",
       "    }\n",
       "</style>\n",
       "<table border=\"1\" class=\"dataframe\">\n",
       "  <thead>\n",
       "    <tr style=\"text-align: right;\">\n",
       "      <th></th>\n",
       "      <th>username</th>\n",
       "      <th>email</th>\n",
       "    </tr>\n",
       "  </thead>\n",
       "  <tbody>\n",
       "  </tbody>\n",
       "</table>\n",
       "</div>"
      ],
      "text/plain": [
       "Empty DataFrame\n",
       "Columns: [username, email]\n",
       "Index: []"
      ]
     },
     "execution_count": 9,
     "metadata": {},
     "output_type": "execute_result"
    }
   ],
   "source": [
    "data[[\"username\", \"email\"]][data.age.between(10,20)]"
   ]
  },
  {
   "cell_type": "markdown",
   "id": "e1c51770-a942-497b-b266-f9ef85b7fe8a",
   "metadata": {},
   "source": [
    "Obtener el username de todos los usuarios cuyo correo no terminen con\n",
    "@example.com"
   ]
  },
  {
   "cell_type": "code",
   "execution_count": 10,
   "id": "c9accf23-198e-48d1-8417-2dbf7bbc0025",
   "metadata": {},
   "outputs": [
    {
     "data": {
      "text/plain": [
       "Series([], Name: username, dtype: object)"
      ]
     },
     "execution_count": 10,
     "metadata": {},
     "output_type": "execute_result"
    }
   ],
   "source": [
    "data.username[~data.email.str.endswith(\"@example.com\")]"
   ]
  },
  {
   "cell_type": "markdown",
   "id": "14006676-9c4d-4d91-bfc4-8550f6d8ca90",
   "metadata": {},
   "source": [
    "Obtener el username de todos los usuarios cuyo país sea Alemania, Finlandia o\n",
    "Canadá."
   ]
  },
  {
   "cell_type": "code",
   "execution_count": 11,
   "id": "3ecb528e-83b9-4ad5-97e1-c3872d0c333a",
   "metadata": {},
   "outputs": [
    {
     "data": {
      "text/plain": [
       "15          smalltiger986\n",
       "18            whitecat263\n",
       "29      brownbutterfly120\n",
       "40      organicleopard484\n",
       "72          greentiger739\n",
       "              ...        \n",
       "1909         tinygoose508\n",
       "1910         crazybird424\n",
       "1922         bluesnake283\n",
       "1934         whitebear676\n",
       "1987      whiteostrich177\n",
       "Name: username, Length: 105, dtype: object"
      ]
     },
     "execution_count": 11,
     "metadata": {},
     "output_type": "execute_result"
    }
   ],
   "source": [
    "countries = [\"Alemania\", \"Filandia\", \"Canada\"]\n",
    "data.username[data.country.isin(countries)]"
   ]
  },
  {
   "cell_type": "markdown",
   "id": "1f997756-2afc-4300-8d0f-93ebd7730626",
   "metadata": {},
   "source": [
    "Obtener el nombre y correo electronico de todos los usuarios de sexo Femenino\n",
    "que sean del país Alemania."
   ]
  },
  {
   "cell_type": "code",
   "execution_count": 12,
   "id": "b05e783a-7d83-4e51-a05f-078f091c9ba4",
   "metadata": {},
   "outputs": [
    {
     "data": {
      "text/html": [
       "<div>\n",
       "<style scoped>\n",
       "    .dataframe tbody tr th:only-of-type {\n",
       "        vertical-align: middle;\n",
       "    }\n",
       "\n",
       "    .dataframe tbody tr th {\n",
       "        vertical-align: top;\n",
       "    }\n",
       "\n",
       "    .dataframe thead th {\n",
       "        text-align: right;\n",
       "    }\n",
       "</style>\n",
       "<table border=\"1\" class=\"dataframe\">\n",
       "  <thead>\n",
       "    <tr style=\"text-align: right;\">\n",
       "      <th></th>\n",
       "      <th>name</th>\n",
       "      <th>email</th>\n",
       "    </tr>\n",
       "  </thead>\n",
       "  <tbody>\n",
       "  </tbody>\n",
       "</table>\n",
       "</div>"
      ],
      "text/plain": [
       "Empty DataFrame\n",
       "Columns: [name, email]\n",
       "Index: []"
      ]
     },
     "execution_count": 12,
     "metadata": {},
     "output_type": "execute_result"
    }
   ],
   "source": [
    "condition = (data.gender == \"female\") & (data.country == \"Alemania\")\n",
    "data[[\"name\", \"email\"]][condition]"
   ]
  },
  {
   "cell_type": "markdown",
   "id": "f99574ae-623e-42c2-98ea-2bb3a40eb470",
   "metadata": {},
   "source": [
    "Obtener el promedio de edad de todos los usuarios de sexo Femenido de Canada\n",
    "mayores de 20 años."
   ]
  },
  {
   "cell_type": "code",
   "execution_count": 13,
   "id": "2d29db2d-2d29-4f5b-93e6-b827ed720cbb",
   "metadata": {},
   "outputs": [
    {
     "data": {
      "text/plain": [
       "53.89090909090909"
      ]
     },
     "execution_count": 13,
     "metadata": {},
     "output_type": "execute_result"
    }
   ],
   "source": [
    "condition = (data.gender == \"female\") & (data.country == \"Canada\") & (data.age > 20)\n",
    "data.age[condition].mean()"
   ]
  },
  {
   "cell_type": "markdown",
   "id": "58a2a020-ffa8-452a-b819-bebcb50686df",
   "metadata": {},
   "source": [
    "Conocer la cantidad de usuarios que residen en Finlandia."
   ]
  },
  {
   "cell_type": "code",
   "execution_count": 14,
   "id": "eb9f6de9-bca9-4a5f-b741-b4aa32769ed2",
   "metadata": {},
   "outputs": [
    {
     "data": {
      "text/plain": [
       "name        0\n",
       "age         0\n",
       "username    0\n",
       "email       0\n",
       "country     0\n",
       "postcode    0\n",
       "gender      0\n",
       "dtype: int64"
      ]
     },
     "execution_count": 14,
     "metadata": {},
     "output_type": "execute_result"
    }
   ],
   "source": [
    "data[data.country == \"Filandia\"].count()"
   ]
  },
  {
   "cell_type": "markdown",
   "id": "737f480f-c54f-4d9f-b0c4-4f8150c8ef68",
   "metadata": {},
   "source": [
    "Mostrar en consola la cantidad de hombre y mujeres en el dataframe."
   ]
  },
  {
   "cell_type": "code",
   "execution_count": 15,
   "id": "51d2106f-5136-4c88-858f-5ecc267bfc40",
   "metadata": {},
   "outputs": [
    {
     "data": {
      "text/html": [
       "<div>\n",
       "<style scoped>\n",
       "    .dataframe tbody tr th:only-of-type {\n",
       "        vertical-align: middle;\n",
       "    }\n",
       "\n",
       "    .dataframe tbody tr th {\n",
       "        vertical-align: top;\n",
       "    }\n",
       "\n",
       "    .dataframe thead th {\n",
       "        text-align: right;\n",
       "    }\n",
       "</style>\n",
       "<table border=\"1\" class=\"dataframe\">\n",
       "  <thead>\n",
       "    <tr style=\"text-align: right;\">\n",
       "      <th></th>\n",
       "      <th>name</th>\n",
       "      <th>age</th>\n",
       "      <th>username</th>\n",
       "      <th>email</th>\n",
       "      <th>country</th>\n",
       "      <th>postcode</th>\n",
       "    </tr>\n",
       "    <tr>\n",
       "      <th>gender</th>\n",
       "      <th></th>\n",
       "      <th></th>\n",
       "      <th></th>\n",
       "      <th></th>\n",
       "      <th></th>\n",
       "      <th></th>\n",
       "    </tr>\n",
       "  </thead>\n",
       "  <tbody>\n",
       "    <tr>\n",
       "      <th>female</th>\n",
       "      <td>1013</td>\n",
       "      <td>1013</td>\n",
       "      <td>1013</td>\n",
       "      <td>1013</td>\n",
       "      <td>1013</td>\n",
       "      <td>1013</td>\n",
       "    </tr>\n",
       "    <tr>\n",
       "      <th>male</th>\n",
       "      <td>987</td>\n",
       "      <td>987</td>\n",
       "      <td>987</td>\n",
       "      <td>987</td>\n",
       "      <td>987</td>\n",
       "      <td>987</td>\n",
       "    </tr>\n",
       "  </tbody>\n",
       "</table>\n",
       "</div>"
      ],
      "text/plain": [
       "        name   age  username  email  country  postcode\n",
       "gender                                                \n",
       "female  1013  1013      1013   1013     1013      1013\n",
       "male     987   987       987    987      987       987"
      ]
     },
     "execution_count": 15,
     "metadata": {},
     "output_type": "execute_result"
    }
   ],
   "source": [
    "data.groupby([\"gender\"]).count()"
   ]
  },
  {
   "cell_type": "markdown",
   "id": "558aae95-12cf-49e7-bd1d-cc7159788fab",
   "metadata": {},
   "source": [
    "Mostrar en consola el país con más mujeres"
   ]
  },
  {
   "cell_type": "code",
   "execution_count": 16,
   "id": "da6878b0-82b8-45b5-b902-33e36665b102",
   "metadata": {
    "tags": []
   },
   "outputs": [
    {
     "data": {
      "text/plain": [
       "country\n",
       "France            61\n",
       "Canada            55\n",
       "Spain             53\n",
       "Australia         52\n",
       "Brazil            52\n",
       "Denmark           51\n",
       "United Kingdom    50\n",
       "New Zealand       50\n",
       "Mexico            50\n",
       "Netherlands       49\n",
       "India             49\n",
       "Switzerland       49\n",
       "Germany           48\n",
       "Ireland           47\n",
       "Finland           47\n",
       "Turkey            45\n",
       "United States     45\n",
       "Norway            44\n",
       "Serbia            42\n",
       "Ukraine           41\n",
       "Iran              33\n",
       "Name: gender, dtype: int64"
      ]
     },
     "execution_count": 16,
     "metadata": {},
     "output_type": "execute_result"
    }
   ],
   "source": [
    "data[data.gender == \"female\"].groupby([\"country\"]).count()[\"gender\"].sort_values(ascending=False)\n"
   ]
  },
  {
   "cell_type": "markdown",
   "id": "02403357-3fa9-42a8-af41-e1c26e554bbd",
   "metadata": {},
   "source": [
    "Obtener los 3 países con más usuarios."
   ]
  },
  {
   "cell_type": "code",
   "execution_count": 17,
   "id": "153620dd-01ca-4980-9a72-dc08c9def9e2",
   "metadata": {},
   "outputs": [
    {
     "data": {
      "text/plain": [
       "country\n",
       "Australia         112\n",
       "Germany           108\n",
       "Spain             106\n",
       "Canada            105\n",
       "Finland           103\n",
       "United Kingdom    102\n",
       "Netherlands       101\n",
       "France            100\n",
       "Denmark            98\n",
       "India              98\n",
       "Ireland            97\n",
       "United States      94\n",
       "Brazil             93\n",
       "Switzerland        91\n",
       "Ukraine            90\n",
       "New Zealand        89\n",
       "Turkey             88\n",
       "Norway             86\n",
       "Serbia             86\n",
       "Mexico             83\n",
       "Iran               70\n",
       "Name: name, dtype: int64"
      ]
     },
     "execution_count": 17,
     "metadata": {},
     "output_type": "execute_result"
    }
   ],
   "source": [
    "data.groupby([\"country\"])[\"name\"].count().sort_values(ascending=False)"
   ]
  },
  {
   "cell_type": "markdown",
   "id": "fc8f781b-bb14-4589-8584-77e131048ea7",
   "metadata": {},
   "source": [
    "Mostrar en consola el nombre de todos los usuarios cuya edad se encuentre en el\n",
    "rango de 10 a 20 y 40 a 70."
   ]
  },
  {
   "cell_type": "code",
   "execution_count": 77,
   "id": "d8df1584-563c-4621-ba9d-8a7119521d5a",
   "metadata": {},
   "outputs": [
    {
     "data": {
      "text/html": [
       "<div>\n",
       "<style scoped>\n",
       "    .dataframe tbody tr th:only-of-type {\n",
       "        vertical-align: middle;\n",
       "    }\n",
       "\n",
       "    .dataframe tbody tr th {\n",
       "        vertical-align: top;\n",
       "    }\n",
       "\n",
       "    .dataframe thead th {\n",
       "        text-align: right;\n",
       "    }\n",
       "</style>\n",
       "<table border=\"1\" class=\"dataframe\">\n",
       "  <thead>\n",
       "    <tr style=\"text-align: right;\">\n",
       "      <th></th>\n",
       "      <th>name</th>\n",
       "      <th>age</th>\n",
       "    </tr>\n",
       "  </thead>\n",
       "  <tbody>\n",
       "    <tr>\n",
       "      <th>0</th>\n",
       "      <td>Ms Fátima Martin</td>\n",
       "      <td>42</td>\n",
       "    </tr>\n",
       "    <tr>\n",
       "      <th>2</th>\n",
       "      <td>Ms Veena Kulkarni</td>\n",
       "      <td>53</td>\n",
       "    </tr>\n",
       "    <tr>\n",
       "      <th>4</th>\n",
       "      <td>Ms Nataša Subašić</td>\n",
       "      <td>55</td>\n",
       "    </tr>\n",
       "    <tr>\n",
       "      <th>6</th>\n",
       "      <td>Mr Oscar Olsen</td>\n",
       "      <td>60</td>\n",
       "    </tr>\n",
       "    <tr>\n",
       "      <th>7</th>\n",
       "      <td>Ms Marta Selvik</td>\n",
       "      <td>63</td>\n",
       "    </tr>\n",
       "    <tr>\n",
       "      <th>...</th>\n",
       "      <td>...</td>\n",
       "      <td>...</td>\n",
       "    </tr>\n",
       "    <tr>\n",
       "      <th>1989</th>\n",
       "      <td>Miss Sylvana Stoll</td>\n",
       "      <td>67</td>\n",
       "    </tr>\n",
       "    <tr>\n",
       "      <th>1990</th>\n",
       "      <td>Mr Marius Møller</td>\n",
       "      <td>50</td>\n",
       "    </tr>\n",
       "    <tr>\n",
       "      <th>1991</th>\n",
       "      <td>Mr Jake Moore</td>\n",
       "      <td>61</td>\n",
       "    </tr>\n",
       "    <tr>\n",
       "      <th>1993</th>\n",
       "      <td>Mr Zachary Stevens</td>\n",
       "      <td>70</td>\n",
       "    </tr>\n",
       "    <tr>\n",
       "      <th>1997</th>\n",
       "      <td>Ms Maria Peković</td>\n",
       "      <td>45</td>\n",
       "    </tr>\n",
       "  </tbody>\n",
       "</table>\n",
       "<p>1119 rows × 2 columns</p>\n",
       "</div>"
      ],
      "text/plain": [
       "                    name  age\n",
       "0       Ms Fátima Martin   42\n",
       "2      Ms Veena Kulkarni   53\n",
       "4      Ms Nataša Subašić   55\n",
       "6         Mr Oscar Olsen   60\n",
       "7        Ms Marta Selvik   63\n",
       "...                  ...  ...\n",
       "1989  Miss Sylvana Stoll   67\n",
       "1990    Mr Marius Møller   50\n",
       "1991       Mr Jake Moore   61\n",
       "1993  Mr Zachary Stevens   70\n",
       "1997    Ms Maria Peković   45\n",
       "\n",
       "[1119 rows x 2 columns]"
      ]
     },
     "execution_count": 77,
     "metadata": {},
     "output_type": "execute_result"
    }
   ],
   "source": [
    "condition = (data.age.between(10, 20)) | (data.age.between(40,70))\n",
    "data[[\"name\", \"age\"]][condition]"
   ]
  },
  {
   "cell_type": "markdown",
   "id": "5098bb6e-62ae-424e-acfe-ae4e53da1333",
   "metadata": {},
   "source": [
    "Mostrar en consola todos los usuarios con correo electrónico."
   ]
  },
  {
   "cell_type": "code",
   "execution_count": 19,
   "id": "995f27d7-c913-4489-b981-c69abe1d1427",
   "metadata": {},
   "outputs": [
    {
     "data": {
      "text/html": [
       "<div>\n",
       "<style scoped>\n",
       "    .dataframe tbody tr th:only-of-type {\n",
       "        vertical-align: middle;\n",
       "    }\n",
       "\n",
       "    .dataframe tbody tr th {\n",
       "        vertical-align: top;\n",
       "    }\n",
       "\n",
       "    .dataframe thead th {\n",
       "        text-align: right;\n",
       "    }\n",
       "</style>\n",
       "<table border=\"1\" class=\"dataframe\">\n",
       "  <thead>\n",
       "    <tr style=\"text-align: right;\">\n",
       "      <th></th>\n",
       "      <th>name</th>\n",
       "      <th>age</th>\n",
       "      <th>username</th>\n",
       "      <th>email</th>\n",
       "      <th>country</th>\n",
       "      <th>postcode</th>\n",
       "      <th>gender</th>\n",
       "    </tr>\n",
       "  </thead>\n",
       "  <tbody>\n",
       "    <tr>\n",
       "      <th>0</th>\n",
       "      <td>Ms Fátima Martin</td>\n",
       "      <td>42</td>\n",
       "      <td>goldenmouse797</td>\n",
       "      <td>fatima.martin@example.com</td>\n",
       "      <td>Spain</td>\n",
       "      <td>43746</td>\n",
       "      <td>female</td>\n",
       "    </tr>\n",
       "    <tr>\n",
       "      <th>1</th>\n",
       "      <td>Mrs Molly Garrett</td>\n",
       "      <td>30</td>\n",
       "      <td>smallpanda982</td>\n",
       "      <td>molly.garrett@example.com</td>\n",
       "      <td>Ireland</td>\n",
       "      <td>57660</td>\n",
       "      <td>female</td>\n",
       "    </tr>\n",
       "    <tr>\n",
       "      <th>2</th>\n",
       "      <td>Ms Veena Kulkarni</td>\n",
       "      <td>53</td>\n",
       "      <td>smalltiger174</td>\n",
       "      <td>veena.kulkarni@example.com</td>\n",
       "      <td>India</td>\n",
       "      <td>29797</td>\n",
       "      <td>female</td>\n",
       "    </tr>\n",
       "    <tr>\n",
       "      <th>3</th>\n",
       "      <td>Miss Sheryl Cole</td>\n",
       "      <td>74</td>\n",
       "      <td>beautifulcat191</td>\n",
       "      <td>sheryl.cole@example.com</td>\n",
       "      <td>United Kingdom</td>\n",
       "      <td>TH3 7XG</td>\n",
       "      <td>female</td>\n",
       "    </tr>\n",
       "    <tr>\n",
       "      <th>4</th>\n",
       "      <td>Ms Nataša Subašić</td>\n",
       "      <td>55</td>\n",
       "      <td>bigbird256</td>\n",
       "      <td>natasa.subasic@example.com</td>\n",
       "      <td>Serbia</td>\n",
       "      <td>83260</td>\n",
       "      <td>female</td>\n",
       "    </tr>\n",
       "    <tr>\n",
       "      <th>...</th>\n",
       "      <td>...</td>\n",
       "      <td>...</td>\n",
       "      <td>...</td>\n",
       "      <td>...</td>\n",
       "      <td>...</td>\n",
       "      <td>...</td>\n",
       "      <td>...</td>\n",
       "    </tr>\n",
       "    <tr>\n",
       "      <th>1995</th>\n",
       "      <td>Ms Viktoria Lauritsen</td>\n",
       "      <td>38</td>\n",
       "      <td>heavyzebra441</td>\n",
       "      <td>viktoria.lauritsen@example.com</td>\n",
       "      <td>Norway</td>\n",
       "      <td>1545</td>\n",
       "      <td>female</td>\n",
       "    </tr>\n",
       "    <tr>\n",
       "      <th>1996</th>\n",
       "      <td>Mr Christian Sørhaug</td>\n",
       "      <td>28</td>\n",
       "      <td>goldensnake897</td>\n",
       "      <td>christian.sorhaug@example.com</td>\n",
       "      <td>Norway</td>\n",
       "      <td>3614</td>\n",
       "      <td>male</td>\n",
       "    </tr>\n",
       "    <tr>\n",
       "      <th>1997</th>\n",
       "      <td>Ms Maria Peković</td>\n",
       "      <td>45</td>\n",
       "      <td>redzebra951</td>\n",
       "      <td>maria.pekovic@example.com</td>\n",
       "      <td>Serbia</td>\n",
       "      <td>30159</td>\n",
       "      <td>female</td>\n",
       "    </tr>\n",
       "    <tr>\n",
       "      <th>1998</th>\n",
       "      <td>Mrs Nicole Jensen</td>\n",
       "      <td>78</td>\n",
       "      <td>beautifuldog292</td>\n",
       "      <td>nicole.jensen@example.com</td>\n",
       "      <td>United Kingdom</td>\n",
       "      <td>L9J 1QE</td>\n",
       "      <td>female</td>\n",
       "    </tr>\n",
       "    <tr>\n",
       "      <th>1999</th>\n",
       "      <td>Mr Percy Blankenstein</td>\n",
       "      <td>36</td>\n",
       "      <td>ticklishostrich632</td>\n",
       "      <td>percy.blankenstein@example.com</td>\n",
       "      <td>Netherlands</td>\n",
       "      <td>3143 RR</td>\n",
       "      <td>male</td>\n",
       "    </tr>\n",
       "  </tbody>\n",
       "</table>\n",
       "<p>2000 rows × 7 columns</p>\n",
       "</div>"
      ],
      "text/plain": [
       "                       name  age            username  \\\n",
       "0          Ms Fátima Martin   42      goldenmouse797   \n",
       "1         Mrs Molly Garrett   30       smallpanda982   \n",
       "2         Ms Veena Kulkarni   53       smalltiger174   \n",
       "3          Miss Sheryl Cole   74     beautifulcat191   \n",
       "4         Ms Nataša Subašić   55          bigbird256   \n",
       "...                     ...  ...                 ...   \n",
       "1995  Ms Viktoria Lauritsen   38       heavyzebra441   \n",
       "1996   Mr Christian Sørhaug   28      goldensnake897   \n",
       "1997       Ms Maria Peković   45         redzebra951   \n",
       "1998      Mrs Nicole Jensen   78     beautifuldog292   \n",
       "1999  Mr Percy Blankenstein   36  ticklishostrich632   \n",
       "\n",
       "                               email         country postcode  gender  \n",
       "0          fatima.martin@example.com           Spain    43746  female  \n",
       "1          molly.garrett@example.com         Ireland    57660  female  \n",
       "2         veena.kulkarni@example.com           India    29797  female  \n",
       "3            sheryl.cole@example.com  United Kingdom  TH3 7XG  female  \n",
       "4         natasa.subasic@example.com          Serbia    83260  female  \n",
       "...                              ...             ...      ...     ...  \n",
       "1995  viktoria.lauritsen@example.com          Norway     1545  female  \n",
       "1996   christian.sorhaug@example.com          Norway     3614    male  \n",
       "1997       maria.pekovic@example.com          Serbia    30159  female  \n",
       "1998       nicole.jensen@example.com  United Kingdom  L9J 1QE  female  \n",
       "1999  percy.blankenstein@example.com     Netherlands  3143 RR    male  \n",
       "\n",
       "[2000 rows x 7 columns]"
      ]
     },
     "execution_count": 19,
     "metadata": {},
     "output_type": "execute_result"
    }
   ],
   "source": [
    "data[data.email.notnull()]"
   ]
  },
  {
   "cell_type": "code",
   "execution_count": 21,
   "id": "ea47f96a-d1ab-4e04-8ef2-c768c7317bf0",
   "metadata": {},
   "outputs": [
    {
     "data": {
      "text/plain": [
       "False"
      ]
     },
     "execution_count": 21,
     "metadata": {},
     "output_type": "execute_result"
    }
   ],
   "source": [
    "data.email.isnull().any()"
   ]
  },
  {
   "cell_type": "markdown",
   "id": "491bcbad-e22f-49e8-8dbe-d537ad192cfc",
   "metadata": {},
   "source": [
    "Mostrar en pantalla el nombre y correo electrónico del usuario más joven en Canadá."
   ]
  },
  {
   "cell_type": "code",
   "execution_count": 38,
   "id": "8c1e0201-4376-48e7-a6eb-da554a2ec5e3",
   "metadata": {},
   "outputs": [
    {
     "data": {
      "text/html": [
       "<div>\n",
       "<style scoped>\n",
       "    .dataframe tbody tr th:only-of-type {\n",
       "        vertical-align: middle;\n",
       "    }\n",
       "\n",
       "    .dataframe tbody tr th {\n",
       "        vertical-align: top;\n",
       "    }\n",
       "\n",
       "    .dataframe thead th {\n",
       "        text-align: right;\n",
       "    }\n",
       "</style>\n",
       "<table border=\"1\" class=\"dataframe\">\n",
       "  <thead>\n",
       "    <tr style=\"text-align: right;\">\n",
       "      <th></th>\n",
       "      <th>name</th>\n",
       "      <th>email</th>\n",
       "      <th>age</th>\n",
       "    </tr>\n",
       "  </thead>\n",
       "  <tbody>\n",
       "    <tr>\n",
       "      <th>262</th>\n",
       "      <td>Mr Dylan Ouellet</td>\n",
       "      <td>dylan.ouellet@example.com</td>\n",
       "      <td>21</td>\n",
       "    </tr>\n",
       "  </tbody>\n",
       "</table>\n",
       "</div>"
      ],
      "text/plain": [
       "                 name                      email  age\n",
       "262  Mr Dylan Ouellet  dylan.ouellet@example.com   21"
      ]
     },
     "execution_count": 38,
     "metadata": {},
     "output_type": "execute_result"
    }
   ],
   "source": [
    "data[['name', 'email', 'age']][(data.country == 'Canada')].sort_values('age').head(1)"
   ]
  },
  {
   "cell_type": "markdown",
   "id": "76f43185-4f7a-45bb-abaf-6283fc66f2f8",
   "metadata": {},
   "source": [
    "Mostrar en pantalla el nombre y correo electrónico del usuario más viejo en Canada."
   ]
  },
  {
   "cell_type": "code",
   "execution_count": 39,
   "id": "96f514af-b37f-4843-b908-98faec4b10fe",
   "metadata": {},
   "outputs": [
    {
     "data": {
      "text/html": [
       "<div>\n",
       "<style scoped>\n",
       "    .dataframe tbody tr th:only-of-type {\n",
       "        vertical-align: middle;\n",
       "    }\n",
       "\n",
       "    .dataframe tbody tr th {\n",
       "        vertical-align: top;\n",
       "    }\n",
       "\n",
       "    .dataframe thead th {\n",
       "        text-align: right;\n",
       "    }\n",
       "</style>\n",
       "<table border=\"1\" class=\"dataframe\">\n",
       "  <thead>\n",
       "    <tr style=\"text-align: right;\">\n",
       "      <th></th>\n",
       "      <th>name</th>\n",
       "      <th>email</th>\n",
       "      <th>age</th>\n",
       "    </tr>\n",
       "  </thead>\n",
       "  <tbody>\n",
       "    <tr>\n",
       "      <th>1922</th>\n",
       "      <td>Ms Marianne Ennis</td>\n",
       "      <td>marianne.ennis@example.com</td>\n",
       "      <td>77</td>\n",
       "    </tr>\n",
       "  </tbody>\n",
       "</table>\n",
       "</div>"
      ],
      "text/plain": [
       "                   name                       email  age\n",
       "1922  Ms Marianne Ennis  marianne.ennis@example.com   77"
      ]
     },
     "execution_count": 39,
     "metadata": {},
     "output_type": "execute_result"
    }
   ],
   "source": [
    "data[['name', 'email', 'age']][(data.country == 'Canada')].sort_values('age', ascending=False).head(1)"
   ]
  },
  {
   "cell_type": "markdown",
   "id": "ead59f21-0ef0-4c40-9700-58ecefb63612",
   "metadata": {},
   "source": [
    "Listar en consola los 3 países con menor cantidad de usuarios."
   ]
  },
  {
   "cell_type": "code",
   "execution_count": 44,
   "id": "46fb5a32-66d2-42be-8218-9ff1dce9e7fc",
   "metadata": {},
   "outputs": [
    {
     "data": {
      "text/plain": [
       "country\n",
       "Iran      70\n",
       "Mexico    83\n",
       "Serbia    86\n",
       "Name: country, dtype: int64"
      ]
     },
     "execution_count": 44,
     "metadata": {},
     "output_type": "execute_result"
    }
   ],
   "source": [
    "data.groupby('country')['country'].count().sort_values().head(3)"
   ]
  },
  {
   "cell_type": "markdown",
   "id": "b513982b-ee04-4af2-b8c3-195607fa3306",
   "metadata": {},
   "source": [
    "Obtener el país con mayor cantidad de usuarios cuya edad sea mayor a 50."
   ]
  },
  {
   "cell_type": "code",
   "execution_count": 47,
   "id": "07d9b3fa-f168-4dc2-91e5-f2f866165c9f",
   "metadata": {},
   "outputs": [
    {
     "data": {
      "text/plain": [
       "country\n",
       "India    54\n",
       "Name: country, dtype: int64"
      ]
     },
     "execution_count": 47,
     "metadata": {},
     "output_type": "execute_result"
    }
   ],
   "source": [
    "data[data.age > 50].groupby('country')['country'].count().sort_values(ascending=False).head(1)"
   ]
  },
  {
   "cell_type": "markdown",
   "id": "42ca6c7d-eb82-4faf-9bfc-1c8a631d9ae7",
   "metadata": {},
   "source": [
    "Obtener el país con mayor promedio de edad."
   ]
  },
  {
   "cell_type": "code",
   "execution_count": 52,
   "id": "8cd776c0-7323-4e4c-bfd7-dd7b46df03d2",
   "metadata": {},
   "outputs": [
    {
     "data": {
      "text/plain": [
       "country\n",
       "India    52.540816\n",
       "Name: age, dtype: float64"
      ]
     },
     "execution_count": 52,
     "metadata": {},
     "output_type": "execute_result"
    }
   ],
   "source": [
    "data.groupby('country')['age'].mean().sort_values(ascending=False).head(1)"
   ]
  },
  {
   "cell_type": "markdown",
   "id": "0fa144aa-9918-47fd-8548-baf9d9408a7f",
   "metadata": {},
   "source": [
    "Mostrar en consola el país con más hombres."
   ]
  },
  {
   "cell_type": "code",
   "execution_count": 58,
   "id": "5deee975-4b1c-462f-989b-5d8d1c04e271",
   "metadata": {},
   "outputs": [
    {
     "data": {
      "text/plain": [
       "country\n",
       "Australia    60\n",
       "Germany      60\n",
       "Name: gender, dtype: int64"
      ]
     },
     "execution_count": 58,
     "metadata": {},
     "output_type": "execute_result"
    }
   ],
   "source": [
    "data[data.gender == \"male\"].groupby(\"country\")[\"gender\"].count().sort_values(ascending=False).head(2)"
   ]
  },
  {
   "cell_type": "markdown",
   "id": "c06faf42-b987-4cb5-872d-27935f8256b6",
   "metadata": {},
   "source": [
    "Mostrar en consola el nombre, username y edad de todos los usuarios cuya edad mayor a 10 y no sean del país México, Brasil y Canadá."
   ]
  },
  {
   "cell_type": "code",
   "execution_count": 62,
   "id": "8545e556-afb2-4413-9e5a-d400f5ff52cb",
   "metadata": {},
   "outputs": [
    {
     "data": {
      "text/html": [
       "<div>\n",
       "<style scoped>\n",
       "    .dataframe tbody tr th:only-of-type {\n",
       "        vertical-align: middle;\n",
       "    }\n",
       "\n",
       "    .dataframe tbody tr th {\n",
       "        vertical-align: top;\n",
       "    }\n",
       "\n",
       "    .dataframe thead th {\n",
       "        text-align: right;\n",
       "    }\n",
       "</style>\n",
       "<table border=\"1\" class=\"dataframe\">\n",
       "  <thead>\n",
       "    <tr style=\"text-align: right;\">\n",
       "      <th></th>\n",
       "      <th>name</th>\n",
       "      <th>username</th>\n",
       "      <th>age</th>\n",
       "    </tr>\n",
       "  </thead>\n",
       "  <tbody>\n",
       "    <tr>\n",
       "      <th>0</th>\n",
       "      <td>Ms Fátima Martin</td>\n",
       "      <td>goldenmouse797</td>\n",
       "      <td>42</td>\n",
       "    </tr>\n",
       "    <tr>\n",
       "      <th>1</th>\n",
       "      <td>Mrs Molly Garrett</td>\n",
       "      <td>smallpanda982</td>\n",
       "      <td>30</td>\n",
       "    </tr>\n",
       "    <tr>\n",
       "      <th>2</th>\n",
       "      <td>Ms Veena Kulkarni</td>\n",
       "      <td>smalltiger174</td>\n",
       "      <td>53</td>\n",
       "    </tr>\n",
       "    <tr>\n",
       "      <th>3</th>\n",
       "      <td>Miss Sheryl Cole</td>\n",
       "      <td>beautifulcat191</td>\n",
       "      <td>74</td>\n",
       "    </tr>\n",
       "    <tr>\n",
       "      <th>4</th>\n",
       "      <td>Ms Nataša Subašić</td>\n",
       "      <td>bigbird256</td>\n",
       "      <td>55</td>\n",
       "    </tr>\n",
       "    <tr>\n",
       "      <th>...</th>\n",
       "      <td>...</td>\n",
       "      <td>...</td>\n",
       "      <td>...</td>\n",
       "    </tr>\n",
       "    <tr>\n",
       "      <th>1995</th>\n",
       "      <td>Ms Viktoria Lauritsen</td>\n",
       "      <td>heavyzebra441</td>\n",
       "      <td>38</td>\n",
       "    </tr>\n",
       "    <tr>\n",
       "      <th>1996</th>\n",
       "      <td>Mr Christian Sørhaug</td>\n",
       "      <td>goldensnake897</td>\n",
       "      <td>28</td>\n",
       "    </tr>\n",
       "    <tr>\n",
       "      <th>1997</th>\n",
       "      <td>Ms Maria Peković</td>\n",
       "      <td>redzebra951</td>\n",
       "      <td>45</td>\n",
       "    </tr>\n",
       "    <tr>\n",
       "      <th>1998</th>\n",
       "      <td>Mrs Nicole Jensen</td>\n",
       "      <td>beautifuldog292</td>\n",
       "      <td>78</td>\n",
       "    </tr>\n",
       "    <tr>\n",
       "      <th>1999</th>\n",
       "      <td>Mr Percy Blankenstein</td>\n",
       "      <td>ticklishostrich632</td>\n",
       "      <td>36</td>\n",
       "    </tr>\n",
       "  </tbody>\n",
       "</table>\n",
       "<p>1812 rows × 3 columns</p>\n",
       "</div>"
      ],
      "text/plain": [
       "                       name            username  age\n",
       "0          Ms Fátima Martin      goldenmouse797   42\n",
       "1         Mrs Molly Garrett       smallpanda982   30\n",
       "2         Ms Veena Kulkarni       smalltiger174   53\n",
       "3          Miss Sheryl Cole     beautifulcat191   74\n",
       "4         Ms Nataša Subašić          bigbird256   55\n",
       "...                     ...                 ...  ...\n",
       "1995  Ms Viktoria Lauritsen       heavyzebra441   38\n",
       "1996   Mr Christian Sørhaug      goldensnake897   28\n",
       "1997       Ms Maria Peković         redzebra951   45\n",
       "1998      Mrs Nicole Jensen     beautifuldog292   78\n",
       "1999  Mr Percy Blankenstein  ticklishostrich632   36\n",
       "\n",
       "[1812 rows x 3 columns]"
      ]
     },
     "execution_count": 62,
     "metadata": {},
     "output_type": "execute_result"
    }
   ],
   "source": [
    "condition = (data.age > 10) & (~data.country.isin([\"Mexico\", \"Brasil\", \"Canada\"])) \n",
    "\n",
    "data[[\"name\", \"username\", \"age\"]][condition]"
   ]
  },
  {
   "cell_type": "markdown",
   "id": "14c2b2d9-86ab-43e8-9ac2-3fa4d63833c7",
   "metadata": {},
   "source": [
    "Mostrar en consola el código postal de todos los usuarios de México."
   ]
  },
  {
   "cell_type": "code",
   "execution_count": 63,
   "id": "d75ac88a-8e9b-421d-9a13-cf3eb5acbfdc",
   "metadata": {},
   "outputs": [
    {
     "data": {
      "text/plain": [
       "9       43691\n",
       "49      16073\n",
       "52      52761\n",
       "90      16543\n",
       "91      78696\n",
       "        ...  \n",
       "1813    96954\n",
       "1822    61953\n",
       "1836    35219\n",
       "1912    56421\n",
       "1964    58319\n",
       "Name: postcode, Length: 83, dtype: object"
      ]
     },
     "execution_count": 63,
     "metadata": {},
     "output_type": "execute_result"
    }
   ],
   "source": [
    "data.postcode[data.country == \"Mexico\"]"
   ]
  },
  {
   "cell_type": "markdown",
   "id": "8769c2a0-3657-4815-8829-4dcc52a78934",
   "metadata": {},
   "source": [
    "Obtener la edad que más se repite en el DataFrame."
   ]
  },
  {
   "cell_type": "code",
   "execution_count": 73,
   "id": "111c0c9d-0705-438a-ae6b-e09487f2a7dc",
   "metadata": {},
   "outputs": [
    {
     "data": {
      "text/plain": [
       "age\n",
       "44    50\n",
       "Name: age, dtype: int64"
      ]
     },
     "execution_count": 73,
     "metadata": {},
     "output_type": "execute_result"
    }
   ],
   "source": [
    "data.groupby(\"age\")[\"age\"].count().sort_values(ascending=False).head(1)"
   ]
  },
  {
   "cell_type": "markdown",
   "id": "b505eb66-910e-4521-ad22-661642870f5b",
   "metadata": {},
   "source": [
    "Obtener la edad que menos se repite en el DataFrame."
   ]
  },
  {
   "cell_type": "code",
   "execution_count": 74,
   "id": "d23818b9-6fcd-4056-b6e1-3516b8c42b94",
   "metadata": {},
   "outputs": [
    {
     "data": {
      "text/plain": [
       "age\n",
       "78    14\n",
       "Name: age, dtype: int64"
      ]
     },
     "execution_count": 74,
     "metadata": {},
     "output_type": "execute_result"
    }
   ],
   "source": [
    "data.groupby(\"age\")[\"age\"].count().sort_values().head(1)"
   ]
  }
 ],
 "metadata": {
  "kernelspec": {
   "display_name": "Python [conda env:coco]",
   "language": "python",
   "name": "conda-env-coco-py"
  },
  "language_info": {
   "codemirror_mode": {
    "name": "ipython",
    "version": 3
   },
   "file_extension": ".py",
   "mimetype": "text/x-python",
   "name": "python",
   "nbconvert_exporter": "python",
   "pygments_lexer": "ipython3",
   "version": "3.9.13"
  }
 },
 "nbformat": 4,
 "nbformat_minor": 5
}
